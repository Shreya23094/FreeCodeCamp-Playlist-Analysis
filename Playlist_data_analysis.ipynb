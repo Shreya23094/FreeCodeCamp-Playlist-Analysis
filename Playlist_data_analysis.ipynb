{
 "cells": [
  {
   "cell_type": "code",
   "execution_count": 3,
   "id": "ea2fd502-1965-488f-ae2f-31acf5cf6087",
   "metadata": {
    "tags": []
   },
   "outputs": [],
   "source": [
    "import pandas as pd\n",
    "import numpy as np\n",
    "import matplotlib.pyplot as plt\n",
    "pd.plotting.register_matplotlib_converters()\n",
    "%matplotlib inline\n",
    "import seaborn as sns"
   ]
  },
  {
   "cell_type": "code",
   "execution_count": 4,
   "id": "cbff1c51-6634-4c08-aa1d-0e2a8669cdd3",
   "metadata": {
    "tags": []
   },
   "outputs": [
    {
     "data": {
      "text/html": [
       "<div>\n",
       "<style scoped>\n",
       "    .dataframe tbody tr th:only-of-type {\n",
       "        vertical-align: middle;\n",
       "    }\n",
       "\n",
       "    .dataframe tbody tr th {\n",
       "        vertical-align: top;\n",
       "    }\n",
       "\n",
       "    .dataframe thead th {\n",
       "        text-align: right;\n",
       "    }\n",
       "</style>\n",
       "<table border=\"1\" class=\"dataframe\">\n",
       "  <thead>\n",
       "    <tr style=\"text-align: right;\">\n",
       "      <th></th>\n",
       "      <th>Video_ID</th>\n",
       "      <th>Video_Name</th>\n",
       "      <th>Date</th>\n",
       "      <th>View_Count</th>\n",
       "      <th>Like_Count</th>\n",
       "      <th>Comment_Count</th>\n",
       "      <th>Tags</th>\n",
       "    </tr>\n",
       "  </thead>\n",
       "  <tbody>\n",
       "    <tr>\n",
       "      <th>0</th>\n",
       "      <td>t2CEgPsws3U</td>\n",
       "      <td>Data Structures and Algorithms in JavaScript -...</td>\n",
       "      <td>2018-09-04T18:16:17Z</td>\n",
       "      <td>995541</td>\n",
       "      <td>23155</td>\n",
       "      <td>506</td>\n",
       "      <td>['data structures and algorithms', 'data struc...</td>\n",
       "    </tr>\n",
       "    <tr>\n",
       "      <th>1</th>\n",
       "      <td>iLx4ma8ZqvQ</td>\n",
       "      <td>...spread operator and rest operator - Beau te...</td>\n",
       "      <td>2017-03-22T18:04:50Z</td>\n",
       "      <td>147851</td>\n",
       "      <td>5484</td>\n",
       "      <td>173</td>\n",
       "      <td>['spread', 'rest', 'operator', 'arrays', 'cond...</td>\n",
       "    </tr>\n",
       "    <tr>\n",
       "      <th>2</th>\n",
       "      <td>r6SnMjsLrBk</td>\n",
       "      <td>Objects, part 2: Beau teaches JavaScript</td>\n",
       "      <td>2017-03-21T19:12:12Z</td>\n",
       "      <td>16346</td>\n",
       "      <td>255</td>\n",
       "      <td>5</td>\n",
       "      <td>['tutorial', 'lookups', 'delete', 'remove', 'n...</td>\n",
       "    </tr>\n",
       "    <tr>\n",
       "      <th>3</th>\n",
       "      <td>r7v6EIiHfVA</td>\n",
       "      <td>Logical operators &amp;&amp; TRICKS with short-circuit...</td>\n",
       "      <td>2017-03-20T16:44:04Z</td>\n",
       "      <td>67027</td>\n",
       "      <td>1039</td>\n",
       "      <td>38</td>\n",
       "      <td>['javascript', 'short circuit', 'short-circuit...</td>\n",
       "    </tr>\n",
       "    <tr>\n",
       "      <th>4</th>\n",
       "      <td>bK7I79hcm08</td>\n",
       "      <td>Queues &amp; Priority Queues - Beau teaches JavaSc...</td>\n",
       "      <td>2017-03-19T19:32:07Z</td>\n",
       "      <td>42090</td>\n",
       "      <td>543</td>\n",
       "      <td>27</td>\n",
       "      <td>['queue', 'dequeue', 'enqueue', 'priority', 'd...</td>\n",
       "    </tr>\n",
       "  </tbody>\n",
       "</table>\n",
       "</div>"
      ],
      "text/plain": [
       "      Video_ID                                         Video_Name  \\\n",
       "0  t2CEgPsws3U  Data Structures and Algorithms in JavaScript -...   \n",
       "1  iLx4ma8ZqvQ  ...spread operator and rest operator - Beau te...   \n",
       "2  r6SnMjsLrBk           Objects, part 2: Beau teaches JavaScript   \n",
       "3  r7v6EIiHfVA  Logical operators && TRICKS with short-circuit...   \n",
       "4  bK7I79hcm08  Queues & Priority Queues - Beau teaches JavaSc...   \n",
       "\n",
       "                   Date  View_Count  Like_Count  Comment_Count  \\\n",
       "0  2018-09-04T18:16:17Z      995541       23155            506   \n",
       "1  2017-03-22T18:04:50Z      147851        5484            173   \n",
       "2  2017-03-21T19:12:12Z       16346         255              5   \n",
       "3  2017-03-20T16:44:04Z       67027        1039             38   \n",
       "4  2017-03-19T19:32:07Z       42090         543             27   \n",
       "\n",
       "                                                Tags  \n",
       "0  ['data structures and algorithms', 'data struc...  \n",
       "1  ['spread', 'rest', 'operator', 'arrays', 'cond...  \n",
       "2  ['tutorial', 'lookups', 'delete', 'remove', 'n...  \n",
       "3  ['javascript', 'short circuit', 'short-circuit...  \n",
       "4  ['queue', 'dequeue', 'enqueue', 'priority', 'd...  "
      ]
     },
     "execution_count": 4,
     "metadata": {},
     "output_type": "execute_result"
    }
   ],
   "source": [
    "playlist_df=pd.read_csv(\"FreeCodeCamp-playlist-data.csv\")\n",
    "playlist_df.head()"
   ]
  },
  {
   "cell_type": "code",
   "execution_count": 5,
   "id": "a2be5f89-eb6a-41b5-98a0-877ec85a98e7",
   "metadata": {
    "tags": []
   },
   "outputs": [
    {
     "name": "stdout",
     "output_type": "stream",
     "text": [
      "<class 'pandas.core.frame.DataFrame'>\n",
      "RangeIndex: 92 entries, 0 to 91\n",
      "Data columns (total 7 columns):\n",
      " #   Column         Non-Null Count  Dtype \n",
      "---  ------         --------------  ----- \n",
      " 0   Video_ID       92 non-null     object\n",
      " 1   Video_Name     92 non-null     object\n",
      " 2   Date           92 non-null     object\n",
      " 3   View_Count     92 non-null     int64 \n",
      " 4   Like_Count     92 non-null     int64 \n",
      " 5   Comment_Count  92 non-null     int64 \n",
      " 6   Tags           92 non-null     object\n",
      "dtypes: int64(3), object(4)\n",
      "memory usage: 5.2+ KB\n"
     ]
    }
   ],
   "source": [
    "playlist_df.info()"
   ]
  },
  {
   "cell_type": "code",
   "execution_count": 6,
   "id": "e05514b7-ce22-468f-88f6-376679e554db",
   "metadata": {
    "tags": []
   },
   "outputs": [],
   "source": [
    "playlist_df['Date']=playlist_df['Date'].apply(pd.to_datetime)"
   ]
  },
  {
   "cell_type": "code",
   "execution_count": 7,
   "id": "f6592235-b0da-41e6-ad77-ea9a07031912",
   "metadata": {
    "tags": []
   },
   "outputs": [
    {
     "data": {
      "text/plain": [
       "Video_ID                      object\n",
       "Video_Name                    object\n",
       "Date             datetime64[ns, UTC]\n",
       "View_Count                     int64\n",
       "Like_Count                     int64\n",
       "Comment_Count                  int64\n",
       "Tags                          object\n",
       "dtype: object"
      ]
     },
     "execution_count": 7,
     "metadata": {},
     "output_type": "execute_result"
    }
   ],
   "source": [
    "playlist_df.dtypes"
   ]
  },
  {
   "cell_type": "code",
   "execution_count": 8,
   "id": "5d03842c-0779-42cc-a328-d5f44f5760f5",
   "metadata": {
    "tags": []
   },
   "outputs": [
    {
     "data": {
      "text/html": [
       "<div>\n",
       "<style scoped>\n",
       "    .dataframe tbody tr th:only-of-type {\n",
       "        vertical-align: middle;\n",
       "    }\n",
       "\n",
       "    .dataframe tbody tr th {\n",
       "        vertical-align: top;\n",
       "    }\n",
       "\n",
       "    .dataframe thead th {\n",
       "        text-align: right;\n",
       "    }\n",
       "</style>\n",
       "<table border=\"1\" class=\"dataframe\">\n",
       "  <thead>\n",
       "    <tr style=\"text-align: right;\">\n",
       "      <th></th>\n",
       "      <th>View_Count</th>\n",
       "      <th>Like_Count</th>\n",
       "      <th>Comment_Count</th>\n",
       "    </tr>\n",
       "  </thead>\n",
       "  <tbody>\n",
       "    <tr>\n",
       "      <th>count</th>\n",
       "      <td>92.000000</td>\n",
       "      <td>92.000000</td>\n",
       "      <td>92.000000</td>\n",
       "    </tr>\n",
       "    <tr>\n",
       "      <th>mean</th>\n",
       "      <td>60725.065217</td>\n",
       "      <td>1190.478261</td>\n",
       "      <td>40.641304</td>\n",
       "    </tr>\n",
       "    <tr>\n",
       "      <th>std</th>\n",
       "      <td>105363.892254</td>\n",
       "      <td>2480.734823</td>\n",
       "      <td>57.004835</td>\n",
       "    </tr>\n",
       "    <tr>\n",
       "      <th>min</th>\n",
       "      <td>5582.000000</td>\n",
       "      <td>109.000000</td>\n",
       "      <td>1.000000</td>\n",
       "    </tr>\n",
       "    <tr>\n",
       "      <th>25%</th>\n",
       "      <td>24252.000000</td>\n",
       "      <td>368.500000</td>\n",
       "      <td>15.000000</td>\n",
       "    </tr>\n",
       "    <tr>\n",
       "      <th>50%</th>\n",
       "      <td>40551.000000</td>\n",
       "      <td>656.000000</td>\n",
       "      <td>28.500000</td>\n",
       "    </tr>\n",
       "    <tr>\n",
       "      <th>75%</th>\n",
       "      <td>66140.500000</td>\n",
       "      <td>1224.750000</td>\n",
       "      <td>46.000000</td>\n",
       "    </tr>\n",
       "    <tr>\n",
       "      <th>max</th>\n",
       "      <td>995541.000000</td>\n",
       "      <td>23155.000000</td>\n",
       "      <td>506.000000</td>\n",
       "    </tr>\n",
       "  </tbody>\n",
       "</table>\n",
       "</div>"
      ],
      "text/plain": [
       "          View_Count    Like_Count  Comment_Count\n",
       "count      92.000000     92.000000      92.000000\n",
       "mean    60725.065217   1190.478261      40.641304\n",
       "std    105363.892254   2480.734823      57.004835\n",
       "min      5582.000000    109.000000       1.000000\n",
       "25%     24252.000000    368.500000      15.000000\n",
       "50%     40551.000000    656.000000      28.500000\n",
       "75%     66140.500000   1224.750000      46.000000\n",
       "max    995541.000000  23155.000000     506.000000"
      ]
     },
     "execution_count": 8,
     "metadata": {},
     "output_type": "execute_result"
    }
   ],
   "source": [
    "playlist_df.describe()"
   ]
  },
  {
   "cell_type": "code",
   "execution_count": 9,
   "id": "4dbee62d-c656-4850-a02e-22f82801200a",
   "metadata": {},
   "outputs": [
    {
     "data": {
      "text/plain": [
       "<Figure size 600x1000 with 0 Axes>"
      ]
     },
     "execution_count": 9,
     "metadata": {},
     "output_type": "execute_result"
    },
    {
     "data": {
      "text/plain": [
       "<Figure size 600x1000 with 0 Axes>"
      ]
     },
     "metadata": {},
     "output_type": "display_data"
    }
   ],
   "source": [
    "plt.figure(figsize=(6,10))\n"
   ]
  },
  {
   "cell_type": "code",
   "execution_count": 10,
   "id": "fb98e138-624d-4624-9865-b4c4c0b12460",
   "metadata": {
    "tags": []
   },
   "outputs": [
    {
     "data": {
      "text/html": [
       "<div>\n",
       "<style scoped>\n",
       "    .dataframe tbody tr th:only-of-type {\n",
       "        vertical-align: middle;\n",
       "    }\n",
       "\n",
       "    .dataframe tbody tr th {\n",
       "        vertical-align: top;\n",
       "    }\n",
       "\n",
       "    .dataframe thead th {\n",
       "        text-align: right;\n",
       "    }\n",
       "</style>\n",
       "<table border=\"1\" class=\"dataframe\">\n",
       "  <thead>\n",
       "    <tr style=\"text-align: right;\">\n",
       "      <th></th>\n",
       "      <th>Video_ID</th>\n",
       "    </tr>\n",
       "    <tr>\n",
       "      <th>Listed_tags</th>\n",
       "      <th></th>\n",
       "    </tr>\n",
       "  </thead>\n",
       "  <tbody>\n",
       "    <tr>\n",
       "      <th>'javascript'</th>\n",
       "      <td>45</td>\n",
       "    </tr>\n",
       "    <tr>\n",
       "      <th>'tutorial'</th>\n",
       "      <td>29</td>\n",
       "    </tr>\n",
       "    <tr>\n",
       "      <th>'es6'</th>\n",
       "      <td>11</td>\n",
       "    </tr>\n",
       "    <tr>\n",
       "      <th>'jquery'</th>\n",
       "      <td>9</td>\n",
       "    </tr>\n",
       "    <tr>\n",
       "      <th>'clean code'</th>\n",
       "      <td>8</td>\n",
       "    </tr>\n",
       "  </tbody>\n",
       "</table>\n",
       "</div>"
      ],
      "text/plain": [
       "              Video_ID\n",
       "Listed_tags           \n",
       "'javascript'        45\n",
       "'tutorial'          29\n",
       "'es6'               11\n",
       "'jquery'             9\n",
       "'clean code'         8"
      ]
     },
     "execution_count": 10,
     "metadata": {},
     "output_type": "execute_result"
    }
   ],
   "source": [
    "playlist_df['Listed_tags']=playlist_df['Tags'].str.replace('[','').str.replace(']','').str.split(',')\n",
    "tags=playlist_df.explode('Listed_tags')\n",
    "tags['Listed_tags']=tags['Listed_tags'].apply(lambda x: x.strip())\n",
    "tags_df=pd.DataFrame(tags.groupby(['Listed_tags'])['Video_ID'].count().sort_values(ascending=False))\n",
    "\n",
    "tags_df.head()"
   ]
  },
  {
   "cell_type": "code",
   "execution_count": 11,
   "id": "41882a4c-93dd-46ca-b9da-6832763da383",
   "metadata": {
    "tags": []
   },
   "outputs": [
    {
     "data": {
      "image/png": "[encoded data removed]",
      "text/plain": [
       "<Figure size 600x1000 with 1 Axes>"
      ]
     },
     "metadata": {},
     "output_type": "display_data"
    }
   ],
   "source": [
    "plt.figure(figsize=(6,10))\n",
    "sns.countplot(data=tags,y='Listed_tags',order=tags['Listed_tags'].value_counts().iloc[:40].index)\n",
    "plt.show()"
   ]
  },
  {
   "cell_type": "code",
   "execution_count": 41,
   "id": "6c293b42-04ee-44d1-a563-7b06aee6f8a7",
   "metadata": {
    "tags": []
   },
   "outputs": [
    {
     "data": {
      "text/plain": [
       "<Axes: xlabel='Like_Count', ylabel='View_Count'>"
      ]
     },
     "execution_count": 41,
     "metadata": {},
     "output_type": "execute_result"
    },
    {
     "data": {
      "image/png": "[encoded data removed]",
      "text/plain": [
       "<Figure size 600x600 with 1 Axes>"
      ]
     },
     "metadata": {},
     "output_type": "display_data"
    }
   ],
   "source": [
    "plt.figure(figsize=(6,6))\n",
    "sns.histplot(data=playlist_df,x='Like_Count',y='View_Count',kde=True)"
   ]
  },
  {
   "cell_type": "code",
   "execution_count": 12,
   "id": "b4cb292c-d5b8-4c8d-af70-c484ec13a052",
   "metadata": {
    "tags": []
   },
   "outputs": [],
   "source": [
    "from sklearn.linear_model import LinearRegression\n",
    "from sklearn.model_selection import train_test_split\n",
    "from sklearn.metrics import mean_squared_error\n",
    "from sklearn.tree import DecisionTreeClassifier\n",
    "from sklearn.metrics import accuracy_score"
   ]
  },
  {
   "cell_type": "code",
   "execution_count": 43,
   "id": "2c7a25b1-1dbe-4926-8692-3de37af3e191",
   "metadata": {
    "tags": []
   },
   "outputs": [],
   "source": [
    "X=playlist_df[['Like_Count','Comment_Count']]\n",
    "Y=playlist_df['View_Count']\n",
    "train_x,test_x,train_y,test_y=train_test_split(X,Y,random_state=0)\n",
    "lr=LinearRegression()\n"
   ]
  },
  {
   "cell_type": "code",
   "execution_count": 44,
   "id": "0acb0d3f-b5b6-49c5-bc09-64738851804a",
   "metadata": {
    "tags": []
   },
   "outputs": [
    {
     "data": {
      "text/html": [
       "<style>#sk-container-id-3 {color: black;}#sk-container-id-3 pre{padding: 0;}#sk-container-id-3 div.sk-toggleable {background-color: white;}#sk-container-id-3 label.sk-toggleable__label {cursor: pointer;display: block;width: 100%;margin-bottom: 0;padding: 0.3em;box-sizing: border-box;text-align: center;}#sk-container-id-3 label.sk-toggleable__label-arrow:before {content: \"▸\";float: left;margin-right: 0.25em;color: #696969;}#sk-container-id-3 label.sk-toggleable__label-arrow:hover:before {color: black;}#sk-container-id-3 div.sk-estimator:hover label.sk-toggleable__label-arrow:before {color: black;}#sk-container-id-3 div.sk-toggleable__content {max-height: 0;max-width: 0;overflow: hidden;text-align: left;background-color: #f0f8ff;}#sk-container-id-3 div.sk-toggleable__content pre {margin: 0.2em;color: black;border-radius: 0.25em;background-color: #f0f8ff;}#sk-container-id-3 input.sk-toggleable__control:checked~div.sk-toggleable__content {max-height: 200px;max-width: 100%;overflow: auto;}#sk-container-id-3 input.sk-toggleable__control:checked~label.sk-toggleable__label-arrow:before {content: \"▾\";}#sk-container-id-3 div.sk-estimator input.sk-toggleable__control:checked~label.sk-toggleable__label {background-color: #d4ebff;}#sk-container-id-3 div.sk-label input.sk-toggleable__control:checked~label.sk-toggleable__label {background-color: #d4ebff;}#sk-container-id-3 input.sk-hidden--visually {border: 0;clip: rect(1px 1px 1px 1px);clip: rect(1px, 1px, 1px, 1px);height: 1px;margin: -1px;overflow: hidden;padding: 0;position: absolute;width: 1px;}#sk-container-id-3 div.sk-estimator {font-family: monospace;background-color: #f0f8ff;border: 1px dotted black;border-radius: 0.25em;box-sizing: border-box;margin-bottom: 0.5em;}#sk-container-id-3 div.sk-estimator:hover {background-color: #d4ebff;}#sk-container-id-3 div.sk-parallel-item::after {content: \"\";width: 100%;border-bottom: 1px solid gray;flex-grow: 1;}#sk-container-id-3 div.sk-label:hover label.sk-toggleable__label {background-color: #d4ebff;}#sk-container-id-3 div.sk-serial::before {content: \"\";position: absolute;border-left: 1px solid gray;box-sizing: border-box;top: 0;bottom: 0;left: 50%;z-index: 0;}#sk-container-id-3 div.sk-serial {display: flex;flex-direction: column;align-items: center;background-color: white;padding-right: 0.2em;padding-left: 0.2em;position: relative;}#sk-container-id-3 div.sk-item {position: relative;z-index: 1;}#sk-container-id-3 div.sk-parallel {display: flex;align-items: stretch;justify-content: center;background-color: white;position: relative;}#sk-container-id-3 div.sk-item::before, #sk-container-id-3 div.sk-parallel-item::before {content: \"\";position: absolute;border-left: 1px solid gray;box-sizing: border-box;top: 0;bottom: 0;left: 50%;z-index: -1;}#sk-container-id-3 div.sk-parallel-item {display: flex;flex-direction: column;z-index: 1;position: relative;background-color: white;}#sk-container-id-3 div.sk-parallel-item:first-child::after {align-self: flex-end;width: 50%;}#sk-container-id-3 div.sk-parallel-item:last-child::after {align-self: flex-start;width: 50%;}#sk-container-id-3 div.sk-parallel-item:only-child::after {width: 0;}#sk-container-id-3 div.sk-dashed-wrapped {border: 1px dashed gray;margin: 0 0.4em 0.5em 0.4em;box-sizing: border-box;padding-bottom: 0.4em;background-color: white;}#sk-container-id-3 div.sk-label label {font-family: monospace;font-weight: bold;display: inline-block;line-height: 1.2em;}#sk-container-id-3 div.sk-label-container {text-align: center;}#sk-container-id-3 div.sk-container {/* jupyter's `normalize.less` sets `[hidden] { display: none; }` but bootstrap.min.css set `[hidden] { display: none !important; }` so we also need the `!important` here to be able to override the default hidden behavior on the sphinx rendered scikit-learn.org. See: https://github.com/scikit-learn/scikit-learn/issues/21755 */display: inline-block !important;position: relative;}#sk-container-id-3 div.sk-text-repr-fallback {display: none;}</style><div id=\"sk-container-id-3\" class=\"sk-top-container\"><div class=\"sk-text-repr-fallback\"><pre>LinearRegression()</pre><b>In a Jupyter environment, please rerun this cell to show the HTML representation or trust the notebook. <br />On GitHub, the HTML representation is unable to render, please try loading this page with nbviewer.org.</b></div><div class=\"sk-container\" hidden><div class=\"sk-item\"><div class=\"sk-estimator sk-toggleable\"><input class=\"sk-toggleable__control sk-hidden--visually\" id=\"sk-estimator-id-3\" type=\"checkbox\" checked><label for=\"sk-estimator-id-3\" class=\"sk-toggleable__label sk-toggleable__label-arrow\">LinearRegression</label><div class=\"sk-toggleable__content\"><pre>LinearRegression()</pre></div></div></div></div></div>"
      ],
      "text/plain": [
       "LinearRegression()"
      ]
     },
     "execution_count": 44,
     "metadata": {},
     "output_type": "execute_result"
    }
   ],
   "source": [
    "lr.fit(train_x,train_y)"
   ]
  },
  {
   "cell_type": "code",
   "execution_count": 45,
   "id": "e7b4f806-e83b-4ea1-8ff0-10c24d35cc1b",
   "metadata": {
    "tags": []
   },
   "outputs": [
    {
     "data": {
      "text/plain": [
       "array([ 22506.73870815,  20199.52828539,  23292.55665635,  46333.13427632,\n",
       "        75093.4872277 ,  32148.98528131,  38582.62947906,  92121.36911242,\n",
       "        71421.80589016,  91535.74190726,  31731.80860902,  44582.6575576 ,\n",
       "        54263.61857952, 100902.07686531,  58901.45311053,  29125.27288565,\n",
       "        63870.35315231,  83503.84567925,  24557.11006928,  37758.66642391,\n",
       "        73139.04797575,  33938.17644879,  22298.43504291])"
      ]
     },
     "execution_count": 45,
     "metadata": {},
     "output_type": "execute_result"
    }
   ],
   "source": [
    "predict=lr.predict(test_x)\n",
    "predict"
   ]
  },
  {
   "cell_type": "code",
   "execution_count": 46,
   "id": "400ec65b-6ef0-457d-bc37-f8295cbb9fd9",
   "metadata": {
    "tags": []
   },
   "outputs": [
    {
     "data": {
      "text/plain": [
       "338263543.20183164"
      ]
     },
     "execution_count": 46,
     "metadata": {},
     "output_type": "execute_result"
    }
   ],
   "source": [
    "mse=mean_squared_error(test_y,predict)\n",
    "mse"
   ]
  }
 ],
 "metadata": {
  "kernelspec": {
   "display_name": "Python 3 (ipykernel)",
   "language": "python",
   "name": "python3"
  },
  "language_info": {
   "codemirror_mode": {
    "name": "ipython",
    "version": 3
   },
   "file_extension": ".py",
   "mimetype": "text/x-python",
   "name": "python",
   "nbconvert_exporter": "python",
   "pygments_lexer": "ipython3",
   "version": "3.11.5"
  }
 },
 "nbformat": 4,
 "nbformat_minor": 5
}
